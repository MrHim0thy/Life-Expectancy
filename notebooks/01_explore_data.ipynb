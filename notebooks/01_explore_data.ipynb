import pandas as pd
import matplotlib.pyplot as plt
import seaborn as sns

# Load data
df = pd.read_csv('../data/life_expectancy_data.csv')

# Drop missing values for simplicity
df = df.dropna()

# Plot relationships
sns.scatterplot(data=df, x='Life expectancy', y='GDP')
sns.boxplot(x='Status', y='Life expectancy', data=df)
